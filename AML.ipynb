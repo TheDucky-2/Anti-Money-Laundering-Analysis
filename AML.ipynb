{
 "cells": [
  {
   "metadata": {},
   "cell_type": "markdown",
   "source": "# **Anti Money Laundering Transactions Analysis**",
   "id": "fe6ec546e91d2a4c"
  },
  {
   "metadata": {
    "ExecuteTime": {
     "end_time": "2025-07-05T12:39:34.761902Z",
     "start_time": "2025-07-05T12:38:47.093234Z"
    }
   },
   "cell_type": "code",
   "source": [
    "import pandas as pd\n",
    "import seaborn as sns\n",
    "import matplotlib.pyplot as plt\n",
    "import numpy as np\n",
    "\n",
    "data = pd.read_csv(\"AML_Data_Raw.csv\")\n",
    "\n",
    "print(data)\n"
   ],
   "id": "744e41374eeb23e4",
   "outputs": [
    {
     "name": "stdout",
     "output_type": "stream",
     "text": [
      "             Time        Date  Sender_account  Receiver_account    Amount  \\\n",
      "0        10:35:19  2022-10-07      8724731955        2769355426   1459.15   \n",
      "1        10:35:20  2022-10-07      1491989064        8401255335   6019.64   \n",
      "2        10:35:20  2022-10-07       287305149        4404767002  14328.44   \n",
      "3        10:35:21  2022-10-07      5376652437        9600420220  11895.00   \n",
      "4        10:35:21  2022-10-07      9614186178        3803336972    115.25   \n",
      "...           ...         ...             ...               ...       ...   \n",
      "9504847  10:57:01  2023-08-23      2453933570         519744068   2247.25   \n",
      "9504848  10:57:06  2023-08-23      9805510177        5416607878    927.18   \n",
      "9504849  10:57:06  2023-08-23      7282330957        2995527149   1455.14   \n",
      "9504850  10:57:11  2023-08-23       940337377        4812815165  25995.70   \n",
      "9504851  10:57:12  2023-08-23       105185176        6824994831   9586.08   \n",
      "\n",
      "        Payment_currency Received_currency Sender_bank_location  \\\n",
      "0              UK pounds         UK pounds                   UK   \n",
      "1              UK pounds            Dirham                   UK   \n",
      "2              UK pounds         UK pounds                   UK   \n",
      "3              UK pounds         UK pounds                   UK   \n",
      "4              UK pounds         UK pounds                   UK   \n",
      "...                  ...               ...                  ...   \n",
      "9504847        UK pounds         UK pounds                   UK   \n",
      "9504848        UK pounds         UK pounds                   UK   \n",
      "9504849        UK pounds         UK pounds                   UK   \n",
      "9504850        UK pounds         UK pounds                   UK   \n",
      "9504851        UK pounds         UK pounds                   UK   \n",
      "\n",
      "        Receiver_bank_location  Payment_type  Is_laundering  \\\n",
      "0                           UK  Cash Deposit              0   \n",
      "1                          UAE  Cross-border              0   \n",
      "2                           UK        Cheque              0   \n",
      "3                           UK           ACH              0   \n",
      "4                           UK  Cash Deposit              0   \n",
      "...                        ...           ...            ...   \n",
      "9504847                     UK           ACH              0   \n",
      "9504848                     UK    Debit card              0   \n",
      "9504849                     UK           ACH              0   \n",
      "9504850                     UK           ACH              0   \n",
      "9504851                     UK           ACH              0   \n",
      "\n",
      "              Laundering_type  \n",
      "0        Normal_Cash_Deposits  \n",
      "1              Normal_Fan_Out  \n",
      "2        Normal_Small_Fan_Out  \n",
      "3               Normal_Fan_In  \n",
      "4        Normal_Cash_Deposits  \n",
      "...                       ...  \n",
      "9504847  Normal_Small_Fan_Out  \n",
      "9504848  Normal_Small_Fan_Out  \n",
      "9504849  Normal_Small_Fan_Out  \n",
      "9504850         Normal_Fan_In  \n",
      "9504851        Normal_Fan_Out  \n",
      "\n",
      "[9504852 rows x 12 columns]\n"
     ]
    }
   ],
   "execution_count": 47
  },
  {
   "metadata": {},
   "cell_type": "markdown",
   "source": "**STEP 1: EXPLORING THE DATA(EDA)**",
   "id": "cfa0b7038f02628d"
  },
  {
   "metadata": {
    "ExecuteTime": {
     "end_time": "2025-07-05T12:17:31.471851Z",
     "start_time": "2025-07-05T12:17:25.346455Z"
    }
   },
   "cell_type": "code",
   "source": "data.isnull().sum()",
   "id": "55d6e0b54e9ae630",
   "outputs": [
    {
     "data": {
      "text/plain": [
       "Time                      0\n",
       "Date                      0\n",
       "Sender_account            0\n",
       "Receiver_account          0\n",
       "Amount                    0\n",
       "Payment_currency          0\n",
       "Received_currency         0\n",
       "Sender_bank_location      0\n",
       "Receiver_bank_location    0\n",
       "Payment_type              0\n",
       "Is_laundering             0\n",
       "Laundering_type           0\n",
       "dtype: int64"
      ]
     },
     "execution_count": 4,
     "metadata": {},
     "output_type": "execute_result"
    }
   ],
   "execution_count": 4
  },
  {
   "metadata": {
    "ExecuteTime": {
     "end_time": "2025-07-05T12:17:31.647316Z",
     "start_time": "2025-07-05T12:17:31.595374Z"
    }
   },
   "cell_type": "code",
   "source": "data.dtypes",
   "id": "c4b4d65366381a23",
   "outputs": [
    {
     "data": {
      "text/plain": [
       "Time                       object\n",
       "Date                       object\n",
       "Sender_account              int64\n",
       "Receiver_account            int64\n",
       "Amount                    float64\n",
       "Payment_currency           object\n",
       "Received_currency          object\n",
       "Sender_bank_location       object\n",
       "Receiver_bank_location     object\n",
       "Payment_type               object\n",
       "Is_laundering               int64\n",
       "Laundering_type            object\n",
       "dtype: object"
      ]
     },
     "execution_count": 5,
     "metadata": {},
     "output_type": "execute_result"
    }
   ],
   "execution_count": 5
  },
  {
   "metadata": {
    "ExecuteTime": {
     "end_time": "2025-07-05T12:17:34.171404Z",
     "start_time": "2025-07-05T12:17:31.832184Z"
    }
   },
   "cell_type": "code",
   "source": "data.describe()",
   "id": "aedc3429e052d72c",
   "outputs": [
    {
     "data": {
      "text/plain": [
       "       Sender_account  Receiver_account        Amount  Is_laundering\n",
       "count    9.504852e+06      9.504852e+06  9.504852e+06   9.504852e+06\n",
       "mean     5.006619e+09      5.006006e+09  8.762968e+03   1.038733e-03\n",
       "std      2.885814e+09      2.884763e+09  2.561495e+04   3.221263e-02\n",
       "min      9.018000e+03      9.018000e+03  3.730000e+00   0.000000e+00\n",
       "25%      2.513133e+09      2.513219e+09  2.143688e+03   0.000000e+00\n",
       "50%      5.001017e+09      5.002572e+09  6.113720e+03   0.000000e+00\n",
       "75%      7.505051e+09      7.502397e+09  1.045846e+04   0.000000e+00\n",
       "max      9.999987e+09      9.999971e+09  1.261850e+07   1.000000e+00"
      ],
      "text/html": [
       "<div>\n",
       "<style scoped>\n",
       "    .dataframe tbody tr th:only-of-type {\n",
       "        vertical-align: middle;\n",
       "    }\n",
       "\n",
       "    .dataframe tbody tr th {\n",
       "        vertical-align: top;\n",
       "    }\n",
       "\n",
       "    .dataframe thead th {\n",
       "        text-align: right;\n",
       "    }\n",
       "</style>\n",
       "<table border=\"1\" class=\"dataframe\">\n",
       "  <thead>\n",
       "    <tr style=\"text-align: right;\">\n",
       "      <th></th>\n",
       "      <th>Sender_account</th>\n",
       "      <th>Receiver_account</th>\n",
       "      <th>Amount</th>\n",
       "      <th>Is_laundering</th>\n",
       "    </tr>\n",
       "  </thead>\n",
       "  <tbody>\n",
       "    <tr>\n",
       "      <th>count</th>\n",
       "      <td>9.504852e+06</td>\n",
       "      <td>9.504852e+06</td>\n",
       "      <td>9.504852e+06</td>\n",
       "      <td>9.504852e+06</td>\n",
       "    </tr>\n",
       "    <tr>\n",
       "      <th>mean</th>\n",
       "      <td>5.006619e+09</td>\n",
       "      <td>5.006006e+09</td>\n",
       "      <td>8.762968e+03</td>\n",
       "      <td>1.038733e-03</td>\n",
       "    </tr>\n",
       "    <tr>\n",
       "      <th>std</th>\n",
       "      <td>2.885814e+09</td>\n",
       "      <td>2.884763e+09</td>\n",
       "      <td>2.561495e+04</td>\n",
       "      <td>3.221263e-02</td>\n",
       "    </tr>\n",
       "    <tr>\n",
       "      <th>min</th>\n",
       "      <td>9.018000e+03</td>\n",
       "      <td>9.018000e+03</td>\n",
       "      <td>3.730000e+00</td>\n",
       "      <td>0.000000e+00</td>\n",
       "    </tr>\n",
       "    <tr>\n",
       "      <th>25%</th>\n",
       "      <td>2.513133e+09</td>\n",
       "      <td>2.513219e+09</td>\n",
       "      <td>2.143688e+03</td>\n",
       "      <td>0.000000e+00</td>\n",
       "    </tr>\n",
       "    <tr>\n",
       "      <th>50%</th>\n",
       "      <td>5.001017e+09</td>\n",
       "      <td>5.002572e+09</td>\n",
       "      <td>6.113720e+03</td>\n",
       "      <td>0.000000e+00</td>\n",
       "    </tr>\n",
       "    <tr>\n",
       "      <th>75%</th>\n",
       "      <td>7.505051e+09</td>\n",
       "      <td>7.502397e+09</td>\n",
       "      <td>1.045846e+04</td>\n",
       "      <td>0.000000e+00</td>\n",
       "    </tr>\n",
       "    <tr>\n",
       "      <th>max</th>\n",
       "      <td>9.999987e+09</td>\n",
       "      <td>9.999971e+09</td>\n",
       "      <td>1.261850e+07</td>\n",
       "      <td>1.000000e+00</td>\n",
       "    </tr>\n",
       "  </tbody>\n",
       "</table>\n",
       "</div>"
      ]
     },
     "execution_count": 6,
     "metadata": {},
     "output_type": "execute_result"
    }
   ],
   "execution_count": 6
  },
  {
   "metadata": {
    "ExecuteTime": {
     "end_time": "2025-07-05T12:17:34.393664Z",
     "start_time": "2025-07-05T12:17:34.231019Z"
    }
   },
   "cell_type": "code",
   "source": "data.info()",
   "id": "668bf16112f9206b",
   "outputs": [
    {
     "name": "stdout",
     "output_type": "stream",
     "text": [
      "<class 'pandas.core.frame.DataFrame'>\n",
      "RangeIndex: 9504852 entries, 0 to 9504851\n",
      "Data columns (total 12 columns):\n",
      " #   Column                  Dtype  \n",
      "---  ------                  -----  \n",
      " 0   Time                    object \n",
      " 1   Date                    object \n",
      " 2   Sender_account          int64  \n",
      " 3   Receiver_account        int64  \n",
      " 4   Amount                  float64\n",
      " 5   Payment_currency        object \n",
      " 6   Received_currency       object \n",
      " 7   Sender_bank_location    object \n",
      " 8   Receiver_bank_location  object \n",
      " 9   Payment_type            object \n",
      " 10  Is_laundering           int64  \n",
      " 11  Laundering_type         object \n",
      "dtypes: float64(1), int64(3), object(8)\n",
      "memory usage: 870.2+ MB\n"
     ]
    }
   ],
   "execution_count": 7
  },
  {
   "metadata": {
    "ExecuteTime": {
     "end_time": "2025-07-05T12:17:34.499387Z",
     "start_time": "2025-07-05T12:17:34.481595Z"
    }
   },
   "cell_type": "code",
   "source": "data.columns",
   "id": "cdcea60ae66270d1",
   "outputs": [
    {
     "data": {
      "text/plain": [
       "Index(['Time', 'Date', 'Sender_account', 'Receiver_account', 'Amount',\n",
       "       'Payment_currency', 'Received_currency', 'Sender_bank_location',\n",
       "       'Receiver_bank_location', 'Payment_type', 'Is_laundering',\n",
       "       'Laundering_type'],\n",
       "      dtype='object')"
      ]
     },
     "execution_count": 8,
     "metadata": {},
     "output_type": "execute_result"
    }
   ],
   "execution_count": 8
  },
  {
   "metadata": {
    "ExecuteTime": {
     "end_time": "2025-07-05T12:17:34.612436Z",
     "start_time": "2025-07-05T12:17:34.594096Z"
    }
   },
   "cell_type": "code",
   "source": "data.dtypes",
   "id": "166ee141ace8ee55",
   "outputs": [
    {
     "data": {
      "text/plain": [
       "Time                       object\n",
       "Date                       object\n",
       "Sender_account              int64\n",
       "Receiver_account            int64\n",
       "Amount                    float64\n",
       "Payment_currency           object\n",
       "Received_currency          object\n",
       "Sender_bank_location       object\n",
       "Receiver_bank_location     object\n",
       "Payment_type               object\n",
       "Is_laundering               int64\n",
       "Laundering_type            object\n",
       "dtype: object"
      ]
     },
     "execution_count": 9,
     "metadata": {},
     "output_type": "execute_result"
    }
   ],
   "execution_count": 9
  },
  {
   "metadata": {},
   "cell_type": "markdown",
   "source": "**STEP 2: CLEANING THE DATA**",
   "id": "f5e0b8fc52bc5ed7"
  },
  {
   "metadata": {
    "ExecuteTime": {
     "end_time": "2025-07-05T12:17:37.571677Z",
     "start_time": "2025-07-05T12:17:34.685418Z"
    }
   },
   "cell_type": "code",
   "source": [
    "# Converting date column data type from 'object' to 'datetime'\n",
    "\n",
    "data['Date'] = pd.to_datetime(data['Date'])\n",
    "\n",
    "# Date and Time columns had duplicated data, and both held only dates, so dropped the time column\n",
    "\n",
    "# Converting sender_account and receiver account column datatypes from int to 'object' since we don't need those columns for calculations\n",
    "\n",
    "data['Sender_account'] = data['Sender_account'].astype('object')\n",
    "\n",
    "data['Receiver_account'] = data['Receiver_account'].astype('object')\n",
    "\n",
    "data.columns\n",
    "#data.dtypes"
   ],
   "id": "dd2fa7487874ba18",
   "outputs": [
    {
     "data": {
      "text/plain": [
       "Index(['Time', 'Date', 'Sender_account', 'Receiver_account', 'Amount',\n",
       "       'Payment_currency', 'Received_currency', 'Sender_bank_location',\n",
       "       'Receiver_bank_location', 'Payment_type', 'Is_laundering',\n",
       "       'Laundering_type'],\n",
       "      dtype='object')"
      ]
     },
     "execution_count": 10,
     "metadata": {},
     "output_type": "execute_result"
    }
   ],
   "execution_count": 10
  },
  {
   "metadata": {},
   "cell_type": "markdown",
   "source": "Before we split the data to feed into our model, one thing to consider is that there is only one numerical column we can truly do calculations on, and that wouldn't be a great way to train our model if it just learns to categorize money laundered or not by the transaction amount.",
   "id": "5d6c1d176c7abdc8"
  },
  {
   "metadata": {},
   "cell_type": "markdown",
   "source": "**STEP 3: FEATURE ENGINEERING**",
   "id": "fd5cac4e13c7883b"
  },
  {
   "metadata": {
    "ExecuteTime": {
     "end_time": "2025-07-05T12:17:40.558787Z",
     "start_time": "2025-07-05T12:17:37.671999Z"
    }
   },
   "cell_type": "code",
   "source": [
    "# Checking count of transactions that have locations that are less than 1% and more than 1%\n",
    "\n",
    "sender_location_count = data['Sender_bank_location'].value_counts()\n",
    "\n",
    "receiver_location_count = data['Receiver_bank_location'].value_counts()\n",
    "\n",
    "print(f\"Total sender locations: {sender_location_count.sum()}\")\n",
    "print(f\"Total receiver locations: {receiver_location_count.sum()}\")\n",
    "\n",
    "print(sender_location_count['UK'])\n",
    "print(receiver_location_count['UK'])\n",
    "\n",
    "Percentage_sender_location = sender_location_count / sender_location_count['UK']\n",
    "\n",
    "Percentage_receiver_location = receiver_location_count / receiver_location_count['UK']\n",
    "\n",
    "print(Percentage_sender_location)\n",
    "print(Percentage_receiver_location)\n"
   ],
   "id": "361e958ccc772392",
   "outputs": [
    {
     "name": "stdout",
     "output_type": "stream",
     "text": [
      "Total sender locations: 9504852\n",
      "Total receiver locations: 9504852\n",
      "9183088\n",
      "8864634\n",
      "Sender_bank_location\n",
      "UK             1.000000\n",
      "Turkey         0.002276\n",
      "Switzerland    0.002233\n",
      "Pakistan       0.002216\n",
      "UAE            0.002187\n",
      "Nigeria        0.002181\n",
      "Spain          0.002112\n",
      "Germany        0.002097\n",
      "USA            0.002072\n",
      "Italy          0.002058\n",
      "France         0.002037\n",
      "Japan          0.002011\n",
      "Morocco        0.002008\n",
      "Austria        0.001966\n",
      "Mexico         0.001923\n",
      "Albania        0.001922\n",
      "India          0.001916\n",
      "Netherlands    0.001826\n",
      "Name: count, dtype: float64\n",
      "Receiver_bank_location\n",
      "UK             1.000000\n",
      "Pakistan       0.004397\n",
      "Austria        0.004382\n",
      "Albania        0.004375\n",
      "Japan          0.004369\n",
      "Morocco        0.004366\n",
      "Germany        0.004348\n",
      "France         0.004344\n",
      "Mexico         0.004330\n",
      "Nigeria        0.004317\n",
      "Netherlands    0.004209\n",
      "Spain          0.004206\n",
      "India          0.004167\n",
      "USA            0.004157\n",
      "Italy          0.004119\n",
      "Switzerland    0.004070\n",
      "UAE            0.004049\n",
      "Turkey         0.004014\n",
      "Name: count, dtype: float64\n"
     ]
    }
   ],
   "execution_count": 11
  },
  {
   "metadata": {},
   "cell_type": "markdown",
   "source": "As we can see, we have a total of 9,504,852 sender and receiver account locations, out of which, 9183088 are in UK, so we can add a threshold that anything less than 1 percent is rare.",
   "id": "d93b293affe6086a"
  },
  {
   "metadata": {
    "ExecuteTime": {
     "end_time": "2025-07-05T12:17:40.600594Z",
     "start_time": "2025-07-05T12:17:40.592174Z"
    }
   },
   "cell_type": "code",
   "source": [
    "threshold = 0.01 * len(data)\n",
    "\n",
    "print(threshold)"
   ],
   "id": "da8a5649a1fc97fb",
   "outputs": [
    {
     "name": "stdout",
     "output_type": "stream",
     "text": [
      "95048.52\n"
     ]
    }
   ],
   "execution_count": 12
  },
  {
   "metadata": {
    "ExecuteTime": {
     "end_time": "2025-07-05T12:17:40.704178Z",
     "start_time": "2025-07-05T12:17:40.687712Z"
    }
   },
   "cell_type": "code",
   "source": [
    "rare_sender_locations = sender_location_count[sender_location_count < threshold]\n",
    "\n",
    "print(rare_sender_locations.index)\n",
    "\n",
    "rare_receiver_locations = receiver_location_count[receiver_location_count < threshold]\n",
    "# Locations where less than 1% transactions are made from.\n",
    "\n",
    "print(rare_receiver_locations.index)"
   ],
   "id": "3c18d50fdc92c66a",
   "outputs": [
    {
     "name": "stdout",
     "output_type": "stream",
     "text": [
      "Index(['Turkey', 'Switzerland', 'Pakistan', 'UAE', 'Nigeria', 'Spain',\n",
      "       'Germany', 'USA', 'Italy', 'France', 'Japan', 'Morocco', 'Austria',\n",
      "       'Mexico', 'Albania', 'India', 'Netherlands'],\n",
      "      dtype='object', name='Sender_bank_location')\n",
      "Index(['Pakistan', 'Austria', 'Albania', 'Japan', 'Morocco', 'Germany',\n",
      "       'France', 'Mexico', 'Nigeria', 'Netherlands', 'Spain', 'India', 'USA',\n",
      "       'Italy', 'Switzerland', 'UAE', 'Turkey'],\n",
      "      dtype='object', name='Receiver_bank_location')\n"
     ]
    }
   ],
   "execution_count": 13
  },
  {
   "metadata": {
    "ExecuteTime": {
     "end_time": "2025-07-05T12:18:52.183690Z",
     "start_time": "2025-07-05T12:17:40.790215Z"
    }
   },
   "cell_type": "code",
   "source": [
    "# To be able to use the location in calculations, we can encode anything other than UK as \"other\".\n",
    "\n",
    "data['sender_location'] = data['Sender_bank_location'].apply(lambda x: \"Other\" if x in rare_sender_locations else \"UK\")\n",
    "\n",
    "data['receiver_location'] = data['Receiver_bank_location'].apply(lambda x: \"Other\" if x in rare_receiver_locations else \"UK\")\n",
    "\n",
    "print(data['sender_location'])\n",
    "print(data['receiver_location'])"
   ],
   "id": "5e773391664c3496",
   "outputs": [
    {
     "name": "stdout",
     "output_type": "stream",
     "text": [
      "0          UK\n",
      "1          UK\n",
      "2          UK\n",
      "3          UK\n",
      "4          UK\n",
      "           ..\n",
      "9504847    UK\n",
      "9504848    UK\n",
      "9504849    UK\n",
      "9504850    UK\n",
      "9504851    UK\n",
      "Name: sender_location, Length: 9504852, dtype: object\n",
      "0             UK\n",
      "1          Other\n",
      "2             UK\n",
      "3             UK\n",
      "4             UK\n",
      "           ...  \n",
      "9504847       UK\n",
      "9504848       UK\n",
      "9504849       UK\n",
      "9504850       UK\n",
      "9504851       UK\n",
      "Name: receiver_location, Length: 9504852, dtype: object\n"
     ]
    }
   ],
   "execution_count": 14
  },
  {
   "metadata": {
    "ExecuteTime": {
     "end_time": "2025-07-05T12:18:52.473038Z",
     "start_time": "2025-07-05T12:18:52.466448Z"
    }
   },
   "cell_type": "code",
   "source": "location_map = {'UK': 0, 'Other': 1}",
   "id": "88b3b7b3437690d6",
   "outputs": [],
   "execution_count": 15
  },
  {
   "metadata": {
    "ExecuteTime": {
     "end_time": "2025-07-05T12:18:54.053287Z",
     "start_time": "2025-07-05T12:18:52.648966Z"
    }
   },
   "cell_type": "code",
   "source": [
    "data['sender_location_encoded'] = data['sender_location'].map(location_map)\n",
    "data['receiver_location_encoded'] = data['receiver_location'].map(location_map)\n",
    "\n",
    "print(data['sender_location_encoded'])\n",
    "print(data['receiver_location_encoded'])"
   ],
   "id": "a8e9377f383a8cc8",
   "outputs": [
    {
     "name": "stdout",
     "output_type": "stream",
     "text": [
      "0          0\n",
      "1          0\n",
      "2          0\n",
      "3          0\n",
      "4          0\n",
      "          ..\n",
      "9504847    0\n",
      "9504848    0\n",
      "9504849    0\n",
      "9504850    0\n",
      "9504851    0\n",
      "Name: sender_location_encoded, Length: 9504852, dtype: int64\n",
      "0          0\n",
      "1          1\n",
      "2          0\n",
      "3          0\n",
      "4          0\n",
      "          ..\n",
      "9504847    0\n",
      "9504848    0\n",
      "9504849    0\n",
      "9504850    0\n",
      "9504851    0\n",
      "Name: receiver_location_encoded, Length: 9504852, dtype: int64\n"
     ]
    }
   ],
   "execution_count": 16
  },
  {
   "metadata": {},
   "cell_type": "markdown",
   "source": "As we have now encoded the locations, there are currencies that are highly imbalanced, and we will now check their counts, like we did for location.",
   "id": "c73d402d7dc6b210"
  },
  {
   "metadata": {},
   "cell_type": "markdown",
   "source": "For the currency, we will take the same steps, however, since we have UK pounds and Euro as highly common, we will make them the common ones, and rest of them as rare ones.",
   "id": "8d5b6f7517b20768"
  },
  {
   "metadata": {
    "ExecuteTime": {
     "end_time": "2025-07-05T12:18:56.448695Z",
     "start_time": "2025-07-05T12:18:54.074445Z"
    }
   },
   "cell_type": "code",
   "source": [
    "sent_currency_counts = data['Payment_currency'].value_counts()\n",
    "received_currency_counts = data['Received_currency'].value_counts()\n",
    "\n",
    "threshold_currency = 0.01 * len(data)\n",
    "\n",
    "rarely_sent_currency = sent_currency_counts[sent_currency_counts < threshold_currency]\n",
    "rarely_received_currency = received_currency_counts[received_currency_counts < threshold_currency]\n",
    "\n",
    "commonly_sent_currency = sent_currency_counts[sent_currency_counts > threshold_currency]\n",
    "commonly_received_currency = received_currency_counts[received_currency_counts > threshold_currency]\n",
    "\n",
    "print(rarely_sent_currency.index)\n",
    "print(rarely_received_currency.index)\n",
    "\n",
    "print(commonly_sent_currency)\n",
    "print(commonly_received_currency)"
   ],
   "id": "daec8537ad694eef",
   "outputs": [
    {
     "name": "stdout",
     "output_type": "stream",
     "text": [
      "Index(['Turkish lira', 'Swiss franc', 'Dirham', 'Pakistani rupee', 'Naira',\n",
      "       'US dollar', 'Yen', 'Moroccan dirham', 'Mexican Peso', 'Albanian lek',\n",
      "       'Indian rupee'],\n",
      "      dtype='object', name='Payment_currency')\n",
      "Index(['Pakistani rupee', 'Yen', 'Moroccan dirham', 'Albanian lek',\n",
      "       'Mexican Peso', 'Naira', 'Indian rupee', 'US dollar', 'Swiss franc',\n",
      "       'Dirham', 'Turkish lira'],\n",
      "      dtype='object', name='Received_currency')\n",
      "Payment_currency\n",
      "UK pounds    9099293\n",
      "Euro          117164\n",
      "Name: count, dtype: int64\n",
      "Received_currency\n",
      "UK pounds    8783655\n",
      "Euro          231911\n",
      "Name: count, dtype: int64\n"
     ]
    }
   ],
   "execution_count": 17
  },
  {
   "metadata": {
    "ExecuteTime": {
     "end_time": "2025-07-05T12:19:02.244894Z",
     "start_time": "2025-07-05T12:18:56.485701Z"
    }
   },
   "cell_type": "code",
   "source": [
    "data['sent_currency'] = data['Payment_currency'].apply(lambda currency: currency if currency in [\"UK pounds\", \"Euro\"] else \"Other\")\n",
    "data['received_currency'] = data['Received_currency'].apply(lambda currency: currency if currency in ['UK pounds', 'Euro'] else \"Other\")"
   ],
   "id": "7d8d9379165217c9",
   "outputs": [],
   "execution_count": 18
  },
  {
   "metadata": {
    "ExecuteTime": {
     "end_time": "2025-07-05T12:19:03.945839Z",
     "start_time": "2025-07-05T12:19:02.294688Z"
    }
   },
   "cell_type": "code",
   "source": [
    "currency_map = {\"UK pounds\":0, \"Euro\":1, \"Other\":2}\n",
    "\n",
    "data['sent_currency_encoded'] = data['sent_currency'].map(currency_map)\n",
    "data['received_currency_encoded'] = data['received_currency'].map(currency_map)\n",
    "\n",
    "print(data['sent_currency_encoded'])\n",
    "print(data['received_currency_encoded'])"
   ],
   "id": "d02a8052df234cd8",
   "outputs": [
    {
     "name": "stdout",
     "output_type": "stream",
     "text": [
      "0          0\n",
      "1          0\n",
      "2          0\n",
      "3          0\n",
      "4          0\n",
      "          ..\n",
      "9504847    0\n",
      "9504848    0\n",
      "9504849    0\n",
      "9504850    0\n",
      "9504851    0\n",
      "Name: sent_currency_encoded, Length: 9504852, dtype: int64\n",
      "0          0\n",
      "1          2\n",
      "2          0\n",
      "3          0\n",
      "4          0\n",
      "          ..\n",
      "9504847    0\n",
      "9504848    0\n",
      "9504849    0\n",
      "9504850    0\n",
      "9504851    0\n",
      "Name: received_currency_encoded, Length: 9504852, dtype: int64\n"
     ]
    }
   ],
   "execution_count": 19
  },
  {
   "metadata": {
    "ExecuteTime": {
     "end_time": "2025-07-05T12:19:04.771094Z",
     "start_time": "2025-07-05T12:19:03.969396Z"
    }
   },
   "cell_type": "code",
   "source": "data['Payment_type'].unique()",
   "id": "9cadc860eeaeb6a8",
   "outputs": [
    {
     "data": {
      "text/plain": [
       "array(['Cash Deposit', 'Cross-border', 'Cheque', 'ACH', 'Credit card',\n",
       "       'Debit card', 'Cash Withdrawal'], dtype=object)"
      ]
     },
     "execution_count": 20,
     "metadata": {},
     "output_type": "execute_result"
    }
   ],
   "execution_count": 20
  },
  {
   "metadata": {},
   "cell_type": "markdown",
   "source": "Now, we will do the same for payment type and laundering type. However, one thing to be noted is that there are several categoris in each of the columns, and those categories are highly imbalanced, with several common and rare ones.",
   "id": "6c8ee5e7f34b8992"
  },
  {
   "metadata": {
    "ExecuteTime": {
     "end_time": "2025-07-05T12:19:24.436244Z",
     "start_time": "2025-07-05T12:19:04.863925Z"
    }
   },
   "cell_type": "code",
   "source": [
    "payment_type_threshold = 0.2 * len(data)\n",
    "\n",
    "payment_type_counts = data['Payment_type'].value_counts()\n",
    "\n",
    "common_payment_types = payment_type_counts[payment_type_counts > payment_type_threshold]\n",
    "rare_payment_types = payment_type_counts[payment_type_counts < payment_type_threshold]\n",
    "\n",
    "data['payment_types'] = data['Payment_type'].apply(lambda pmt_type: pmt_type if pmt_type in common_payment_types else \"Other\")\n",
    "\n",
    "#print(rare_payment_types)\n",
    "\n",
    "payment_type_map = {\"ACH\":0, \"Cheque\":1, \"Credit card\":2, \"Debit card\":3, \"Other\":5}\n",
    "\n",
    "data['payment_type_encoded'] = data['payment_types'].map(payment_type_map)\n",
    "\n",
    "print(data['payment_type_encoded'])"
   ],
   "id": "6aee4626158170f",
   "outputs": [
    {
     "name": "stdout",
     "output_type": "stream",
     "text": [
      "0          5\n",
      "1          5\n",
      "2          1\n",
      "3          0\n",
      "4          5\n",
      "          ..\n",
      "9504847    0\n",
      "9504848    3\n",
      "9504849    0\n",
      "9504850    0\n",
      "9504851    0\n",
      "Name: payment_type_encoded, Length: 9504852, dtype: int64\n"
     ]
    }
   ],
   "execution_count": 21
  },
  {
   "metadata": {},
   "cell_type": "markdown",
   "source": "Now, we will be using the Laundering type, to encode it, so that we can feed that information to the model, to predict money-laundering better.",
   "id": "ea319b252228f929"
  },
  {
   "metadata": {
    "ExecuteTime": {
     "end_time": "2025-07-05T12:19:25.854718Z",
     "start_time": "2025-07-05T12:19:24.535848Z"
    }
   },
   "cell_type": "code",
   "source": "data['Laundering_type'].value_counts()",
   "id": "55cc4c3d8642f02f",
   "outputs": [
    {
     "data": {
      "text/plain": [
       "Laundering_type\n",
       "Normal_Small_Fan_Out      3477717\n",
       "Normal_Fan_Out            2302220\n",
       "Normal_Fan_In             2104285\n",
       "Normal_Group               528351\n",
       "Normal_Cash_Withdrawal     305031\n",
       "Normal_Cash_Deposits       223801\n",
       "Normal_Periodical          210526\n",
       "Normal_Plus_Mutual         155041\n",
       "Normal_Mutual              125335\n",
       "Normal_Foward               42031\n",
       "Normal_single_large         20641\n",
       "Structuring                  1870\n",
       "Cash_Withdrawal              1334\n",
       "Deposit-Send                  945\n",
       "Smurfing                      932\n",
       "Layered_Fan_In                656\n",
       "Layered_Fan_Out               529\n",
       "Stacked Bipartite             506\n",
       "Behavioural_Change_1          394\n",
       "Bipartite                     383\n",
       "Cycle                         382\n",
       "Fan_In                        364\n",
       "Gather-Scatter                354\n",
       "Behavioural_Change_2          345\n",
       "Scatter-Gather                338\n",
       "Single_large                  250\n",
       "Fan_Out                       237\n",
       "Over-Invoicing                 54\n",
       "Name: count, dtype: int64"
      ]
     },
     "execution_count": 22,
     "metadata": {},
     "output_type": "execute_result"
    }
   ],
   "execution_count": 22
  },
  {
   "metadata": {},
   "cell_type": "markdown",
   "source": "As we can observe, we have several laundering categories that are dominant and several that are rare. So, to ensure accuracy in our predictions, we can take 7-8 categories that are dominant and mark the remaining as Others.",
   "id": "f38a39881d5f022f"
  },
  {
   "metadata": {
    "ExecuteTime": {
     "end_time": "2025-07-05T12:35:38.459777Z",
     "start_time": "2025-07-05T12:35:21.681128Z"
    }
   },
   "cell_type": "code",
   "source": [
    "common_laundering_types = data[\"Laundering_type\"].value_counts().head(8)\n",
    "\n",
    "#print(common_laundering_types.index)\n",
    "\n",
    "laundering_types = data['Laundering_type'].apply(lambda laundering_type: laundering_type if laundering_type in common_laundering_types else \"Other\" )\n",
    "\n",
    "#print(laundering_types)\n",
    "\n",
    "laundering_type_map = {\"Normal_Small_Fan_Out\": 0, 'Normal_Fan_Out':1, 'Normal_Fan_In':2,\n",
    "       'Normal_Group':3, 'Normal_Cash_Withdrawal':4, 'Normal_Cash_Deposits':5,\n",
    "       'Normal_Periodical':6, 'Normal_Plus_Mutual':7, \"Others\":9 }\n",
    "\n",
    "data['laundering_type_encoded'] = laundering_types.map(laundering_type_map)\n",
    "\n",
    "print(data['laundering_type_encoded'])\n",
    "\n",
    "data['laundering_type_encoded'] = data['laundering_type_encoded'].fillna(-1).astype(int) # While training, this column gave NAN issues, so filled NA as -1, and converted the whole column to integer.\n",
    "\n",
    "print(data['laundering_type_encoded'].isnull().sum())"
   ],
   "id": "ab33daeea9ecac70",
   "outputs": [
    {
     "name": "stdout",
     "output_type": "stream",
     "text": [
      "0          5.0\n",
      "1          1.0\n",
      "2          0.0\n",
      "3          2.0\n",
      "4          5.0\n",
      "          ... \n",
      "9504847    0.0\n",
      "9504848    0.0\n",
      "9504849    0.0\n",
      "9504850    2.0\n",
      "9504851    1.0\n",
      "Name: laundering_type_encoded, Length: 9504852, dtype: float64\n",
      "0\n"
     ]
    }
   ],
   "execution_count": 38
  },
  {
   "metadata": {},
   "cell_type": "markdown",
   "source": "Here is a list of features we will use to train and test our model, to make predictions.",
   "id": "9a77f98b1ce22365"
  },
  {
   "metadata": {
    "ExecuteTime": {
     "end_time": "2025-07-05T12:36:09.222353Z",
     "start_time": "2025-07-05T12:36:09.120970Z"
    }
   },
   "cell_type": "code",
   "source": [
    "# FEATURES we will use to make predictions.\n",
    "\n",
    "data['Is_laundering']\n",
    "data['laundering_type_encoded']\n",
    "data['Amount']\n",
    "data['payment_type_encoded']\n",
    "data['sent_currency_encoded']\n",
    "data['received_currency_encoded']\n",
    "data['sender_location_encoded']\n",
    "data['receiver_location_encoded']\n"
   ],
   "id": "666962c6e0762407",
   "outputs": [
    {
     "data": {
      "text/plain": [
       "0          0\n",
       "1          1\n",
       "2          0\n",
       "3          0\n",
       "4          0\n",
       "          ..\n",
       "9504847    0\n",
       "9504848    0\n",
       "9504849    0\n",
       "9504850    0\n",
       "9504851    0\n",
       "Name: receiver_location_encoded, Length: 9504852, dtype: int64"
      ]
     },
     "execution_count": 41,
     "metadata": {},
     "output_type": "execute_result"
    }
   ],
   "execution_count": 41
  },
  {
   "metadata": {
    "ExecuteTime": {
     "end_time": "2025-07-05T12:37:53.797304Z",
     "start_time": "2025-07-05T12:37:53.523314Z"
    }
   },
   "cell_type": "code",
   "source": "log_amount = np.log1p(data['Amount'])",
   "id": "d675c0126fa7176f",
   "outputs": [],
   "execution_count": 45
  },
  {
   "metadata": {},
   "cell_type": "markdown",
   "source": [
    "We have 2 paths from here: Either we can visualize the data or train a model. Logically, it would be better to visualize the data to see if we would need to use numpy to calculate and find log1p values(in easy language, a calculator that includes even minor values like 1 paisa), for amount.\n",
    "\n",
    "So, we will first use matplotlib and seaborn to plot the data to have better understanding through visualization."
   ],
   "id": "da8cf8bb38d74051"
  },
  {
   "metadata": {
    "ExecuteTime": {
     "end_time": "2025-07-05T12:38:46.805123Z",
     "start_time": "2025-07-05T12:37:57.114296Z"
    }
   },
   "cell_type": "code",
   "source": [
    "plt.figure(figsize=(8,4))\n",
    "sns.histplot(log_amount, bins=100, kde=True)  # kde = Kernel Distribution Estimate(draws a smooth curve over histogram to show distribution.\n",
    "plt.title(\"Transactions Amount Distribution\")\n",
    "plt.xlabel(\"Amount\")\n",
    "plt.ylabel(\"Frequency\")\n",
    "plt.show()"
   ],
   "id": "d88fa0575c6bfea3",
   "outputs": [
    {
     "data": {
      "text/plain": [
       "<Figure size 800x400 with 1 Axes>"
      ],
      "image/png": "[encoded data removed]"
     },
     "metadata": {},
     "output_type": "display_data"
    }
   ],
   "execution_count": 46
  },
  {
   "metadata": {},
   "cell_type": "markdown",
   "source": [
    "As we can see in our histogram, we have 2 extremely thin lines- one really large and another very little. This means our data is highly skewed(imbalanced).\n",
    "\n",
    "Also, as matplotlib stretches the x-axis, it accumulated everything into a very think line.\n",
    "\n",
    "To tackle this problem, we can use log1p, which is log(1 + x), and helps us find the log of very tiny values as well. Since we don't have tiny values in our dataset, we can also use log(1+x) and get basically the same answer."
   ],
   "id": "327cac9eef2a96e3"
  }
 ],
 "metadata": {
  "kernelspec": {
   "display_name": "Python 3",
   "language": "python",
   "name": "python3"
  },
  "language_info": {
   "codemirror_mode": {
    "name": "ipython",
    "version": 2
   },
   "file_extension": ".py",
   "mimetype": "text/x-python",
   "name": "python",
   "nbconvert_exporter": "python",
   "pygments_lexer": "ipython2",
   "version": "2.7.6"
  }
 },
 "nbformat": 4,
 "nbformat_minor": 5
}
